{
 "cells": [
  {
   "cell_type": "code",
   "execution_count": null,
   "metadata": {},
   "outputs": [],
   "source": [
    "import pandas as pd\n",
    "\n",
    "import joblib\n",
    "from sklearn.manifold import TSNE\n",
    "\n",
    "import plotly.express as px\n",
    "\n",
    "from jupyter_dash import JupyterDash\n",
    "\n",
    "import dash_core_components as dcc\n",
    "import dash_html_components as html\n",
    "from dash.dependencies import Input, Output, ALL"
   ]
  },
  {
   "cell_type": "markdown",
   "metadata": {},
   "source": [
    "# Parameters"
   ]
  },
  {
   "cell_type": "code",
   "execution_count": null,
   "metadata": {},
   "outputs": [],
   "source": [
    "fname_in = snakemake.input.fname\n",
    "\n",
    "model_list = snakemake.params.model_list\n",
    "dataset_list = snakemake.params.dataset_list"
   ]
  },
  {
   "cell_type": "markdown",
   "metadata": {},
   "source": [
    "# Read data"
   ]
  },
  {
   "cell_type": "code",
   "execution_count": null,
   "metadata": {},
   "outputs": [],
   "source": [
    "df = pd.read_csv(fname_in)\n",
    "df.head()"
   ]
  },
  {
   "cell_type": "markdown",
   "metadata": {},
   "source": [
    "# Create Dashboard"
   ]
  },
  {
   "cell_type": "markdown",
   "metadata": {},
   "source": [
    "## Helper functions"
   ]
  },
  {
   "cell_type": "code",
   "execution_count": null,
   "metadata": {},
   "outputs": [],
   "source": [
    "def load_dataset(dataset):\n",
    "    return pd.read_csv(f'../../resources/{dataset}.csv')"
   ]
  },
  {
   "cell_type": "code",
   "execution_count": null,
   "metadata": {},
   "outputs": [],
   "source": [
    "def do_tsne(df):\n",
    "    df_sub = df.filter(regex='^(?!target__)')  # remove response\n",
    "    target = df.filter(regex='^target__').squeeze()\n",
    "    \n",
    "    tsne = TSNE(n_components=2, random_state=0)\n",
    "    proj = tsne.fit_transform(df_sub)\n",
    "    \n",
    "    return pd.DataFrame(proj, columns=['TSNE_0', 'TSNE_1'], index=target)"
   ]
  },
  {
   "cell_type": "code",
   "execution_count": null,
   "metadata": {},
   "outputs": [],
   "source": [
    "def load_model(model, dataset):\n",
    "    return joblib.load(f'../../results/models/{model}__{dataset}.pkl')"
   ]
  },
  {
   "cell_type": "markdown",
   "metadata": {},
   "source": [
    "## Setup environment"
   ]
  },
  {
   "cell_type": "code",
   "execution_count": null,
   "metadata": {},
   "outputs": [],
   "source": []
  },
  {
   "cell_type": "markdown",
   "metadata": {},
   "source": [
    "## The actual App"
   ]
  },
  {
   "cell_type": "code",
   "execution_count": null,
   "metadata": {},
   "outputs": [],
   "source": [
    "# plotting\n",
    "def update_figure():\n",
    "    return px.bar(\n",
    "        df, x='model', y='accuracy',\n",
    "        facet_col='dataset',\n",
    "        barmode='group', title='Overall accuracy'\n",
    "    )\n",
    "\n",
    "# create app\n",
    "app = JupyterDash(__name__)\n",
    "\n",
    "app.layout = html.Div([\n",
    "    html.H1('Auto-ML Benchmark results'),\n",
    "    dcc.Graph(figure=update_figure()),\n",
    "    html.Hr(),\n",
    "    dcc.Dropdown(\n",
    "        id='dataset-selector',\n",
    "        options=[{'label': name, 'value': name} for name in dataset_list],\n",
    "        value='iris'\n",
    "    ),\n",
    "    html.Div(id='covariate-container'),\n",
    "    dcc.Graph(id='projection-container'),\n",
    "    html.Div(id='prediction-container')\n",
    "])\n",
    "\n",
    "# plots with callbacks\n",
    "@app.callback(\n",
    "    Output('covariate-container', 'children'),\n",
    "    [Input('dataset-selector', 'value')]\n",
    ")\n",
    "def assmeble_input_fields(dataset):\n",
    "    df = load_dataset(dataset)\n",
    "    \n",
    "    children = []\n",
    "    for col in df.columns:\n",
    "        if col.startswith('target__'):\n",
    "            continue\n",
    "        \n",
    "        children.append(dcc.Input(\n",
    "            id={'type': 'covariate', 'name': col},\n",
    "            placeholder=col,\n",
    "            debounce=True\n",
    "        ))\n",
    "    \n",
    "    return children\n",
    "\n",
    "@app.callback(\n",
    "    Output('projection-container', 'figure'),\n",
    "    [\n",
    "        Input('dataset-selector', 'value'),\n",
    "        Input({'type': 'covariate', 'name': ALL}, 'value')\n",
    "    ]\n",
    ")\n",
    "def plot_tsne_projection(dataset, *covariates):\n",
    "    df = load_dataset(dataset)\n",
    "    \n",
    "    if len(covariates[0]) > 0 and None not in covariates[0]:\n",
    "        cov_columns = df.filter(regex='^(?!target__)').columns\n",
    "        target_column = df.filter(regex='^target__').columns[0]\n",
    "        \n",
    "        df = df.append({\n",
    "            target_column: 'MANUAL',\n",
    "            **dict(zip(cov_columns, covariates[0]))\n",
    "        }, ignore_index=True)\n",
    "    \n",
    "    df_proj = do_tsne(df)\n",
    "    \n",
    "    return px.scatter(\n",
    "        df_proj, x='TSNE_0', y='TSNE_1',\n",
    "        color=df_proj.index,\n",
    "        title='t-SNE projection'\n",
    "    )\n",
    "\n",
    "@app.callback(\n",
    "    Output('prediction-container', 'children'),\n",
    "    [\n",
    "        Input('dataset-selector', 'value'),\n",
    "        Input({'type': 'covariate', 'name': ALL}, 'value')\n",
    "    ]\n",
    ")\n",
    "def plot_model_predictions(dataset, *covariates):\n",
    "    children = []\n",
    "    \n",
    "    return f'{dataset} - {covariates}'\n",
    "\n",
    "# run app\n",
    "app.run_server(mode='jupyterlab')"
   ]
  }
 ],
 "metadata": {
  "kernelspec": {
   "display_name": "Python 3",
   "language": "python",
   "name": "python3"
  },
  "language_info": {
   "codemirror_mode": {
    "name": "ipython",
    "version": 3
   },
   "file_extension": ".py",
   "mimetype": "text/x-python",
   "name": "python",
   "nbconvert_exporter": "python",
   "pygments_lexer": "ipython3",
   "version": "3.9.0"
  }
 },
 "nbformat": 4,
 "nbformat_minor": 4
}
