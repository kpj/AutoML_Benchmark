{
 "cells": [
  {
   "cell_type": "code",
   "execution_count": null,
   "metadata": {},
   "outputs": [],
   "source": [
    "from pathlib import Path\n",
    "\n",
    "import pandas as pd\n",
    "\n",
    "import joblib\n",
    "import category_encoders\n",
    "from sklearn.manifold import TSNE\n",
    "\n",
    "import plotly.express as px\n",
    "\n",
    "from jupyter_dash import JupyterDash\n",
    "\n",
    "import dash_table as dt\n",
    "import dash_core_components as dcc\n",
    "import dash_html_components as html\n",
    "from dash.dependencies import Input, Output, ALL\n",
    "\n",
    "from tqdm.auto import tqdm"
   ]
  },
  {
   "cell_type": "markdown",
   "metadata": {},
   "source": [
    "# Parameters"
   ]
  },
  {
   "cell_type": "code",
   "execution_count": null,
   "metadata": {},
   "outputs": [],
   "source": [
    "fname_in = snakemake.input.fname\n",
    "\n",
    "model_list = snakemake.params.model_list\n",
    "dataset_list = snakemake.params.dataset_list\n",
    "\n",
    "notebook_wd = Path('.')"
   ]
  },
  {
   "cell_type": "markdown",
   "metadata": {},
   "source": [
    "# Read data"
   ]
  },
  {
   "cell_type": "code",
   "execution_count": null,
   "metadata": {},
   "outputs": [],
   "source": [
    "df = pd.read_csv(fname_in)\n",
    "df.head()"
   ]
  },
  {
   "cell_type": "markdown",
   "metadata": {},
   "source": [
    "# Create Dashboard"
   ]
  },
  {
   "cell_type": "markdown",
   "metadata": {},
   "source": [
    "## Helper functions"
   ]
  },
  {
   "cell_type": "code",
   "execution_count": null,
   "metadata": {},
   "outputs": [],
   "source": [
    "def load_dataset(dataset):\n",
    "    return pd.read_csv(notebook_wd / 'resources' / 'datasets' / f'{dataset}.csv')"
   ]
  },
  {
   "cell_type": "code",
   "execution_count": null,
   "metadata": {},
   "outputs": [],
   "source": [
    "def do_tsne(df):\n",
    "    df_sub = df.filter(regex='^(?!target__)')  # remove response\n",
    "    target = df.filter(regex='^target__').squeeze()\n",
    "    \n",
    "    df_sub.fillna(-1, inplace=True)\n",
    "    df_sub = category_encoders.OrdinalEncoder().fit_transform(df_sub)\n",
    "    \n",
    "    tsne = TSNE(n_components=2, random_state=0)\n",
    "    proj = tsne.fit_transform(df_sub)\n",
    "    \n",
    "    return tsne, pd.DataFrame(proj, columns=['TSNE_0', 'TSNE_1'], index=target)"
   ]
  },
  {
   "cell_type": "code",
   "execution_count": null,
   "metadata": {},
   "outputs": [],
   "source": [
    "def load_model(model, dataset):\n",
    "    return joblib.load(notebook_wd / 'results' / 'models' / f'{model}__{dataset}.pkl')"
   ]
  },
  {
   "cell_type": "markdown",
   "metadata": {},
   "source": [
    "## Setup environment"
   ]
  },
  {
   "cell_type": "markdown",
   "metadata": {},
   "source": [
    "### Precompute t-SNE projections"
   ]
  },
  {
   "cell_type": "code",
   "execution_count": null,
   "metadata": {},
   "outputs": [],
   "source": [
    "TSNE_CACHE = {}\n",
    "\n",
    "for dataset in tqdm(dataset_list):\n",
    "    df_data = load_dataset(dataset)\n",
    "    model, df_proj = do_tsne(df_data)\n",
    "    \n",
    "    TSNE_CACHE[dataset] = {\n",
    "        'model': model,\n",
    "        'df_proj': df_proj,\n",
    "        'df_data': df_data\n",
    "    }"
   ]
  },
  {
   "cell_type": "markdown",
   "metadata": {},
   "source": [
    "### Preload models"
   ]
  },
  {
   "cell_type": "code",
   "execution_count": null,
   "metadata": {},
   "outputs": [],
   "source": [
    "MODEL_CACHE = {}\n",
    "\n",
    "for dataset in tqdm(dataset_list):\n",
    "    MODEL_CACHE[dataset] = {}  # yeah, defaultdicts exists\n",
    "    for model in tqdm(model_list, leave=False):\n",
    "        MODEL_CACHE[dataset][model] = load_model(model, dataset)"
   ]
  },
  {
   "cell_type": "markdown",
   "metadata": {},
   "source": [
    "## The actual App"
   ]
  },
  {
   "cell_type": "code",
   "execution_count": null,
   "metadata": {},
   "outputs": [],
   "source": [
    "# plotting\n",
    "def update_figure():\n",
    "    return px.bar(\n",
    "        df, x='model', y='accuracy',\n",
    "        facet_col='dataset',\n",
    "        barmode='group', title='Overall accuracy'\n",
    "    )\n",
    "\n",
    "# create app\n",
    "app = JupyterDash(__name__)\n",
    "\n",
    "app.layout = html.Div([\n",
    "    html.H1('Auto-ML Benchmark results'),\n",
    "    dcc.Graph(figure=update_figure()),\n",
    "    html.Hr(),\n",
    "    dcc.Dropdown(\n",
    "        id='dataset-selector',\n",
    "        options=[{'label': name, 'value': name} for name in dataset_list],\n",
    "        value='iris'\n",
    "    ),\n",
    "    html.Div(id='covariate-container'),\n",
    "    dcc.Graph(id='projection-container'),\n",
    "    dt.DataTable(\n",
    "        id='prediction-container',\n",
    "        columns=[\n",
    "            {'name': 'Model', 'id': 'model'},\n",
    "            {'name': 'Prediction', 'id': 'prediction'},\n",
    "            {'name': 'Performance', 'id': 'performance'}\n",
    "        ],\n",
    "        sort_action='native'\n",
    "    )\n",
    "])\n",
    "\n",
    "# plots with callbacks\n",
    "@app.callback(\n",
    "    Output('covariate-container', 'children'),\n",
    "    [Input('dataset-selector', 'value')]\n",
    ")\n",
    "def assmeble_input_fields(dataset):\n",
    "    df_data = load_dataset(dataset)\n",
    "    \n",
    "    children = []\n",
    "    for col in df_data.columns:\n",
    "        if col.startswith('target__'):\n",
    "            continue\n",
    "        \n",
    "        children.append(dcc.Input(\n",
    "            id={'type': 'covariate', 'name': col},\n",
    "            placeholder=col,\n",
    "            debounce=True\n",
    "        ))\n",
    "    \n",
    "    return children\n",
    "\n",
    "@app.callback(\n",
    "    Output('projection-container', 'figure'),\n",
    "    [\n",
    "        Input('dataset-selector', 'value'),\n",
    "        Input({'type': 'covariate', 'name': ALL}, 'value')\n",
    "    ]\n",
    ")\n",
    "def plot_tsne_projection(dataset, *covariates):\n",
    "    model = TSNE_CACHE[dataset]['model']\n",
    "    df_proj = TSNE_CACHE[dataset]['df_proj']\n",
    "    df_data = TSNE_CACHE[dataset]['df_data']\n",
    "    \n",
    "    if len(covariates[0]) > 0 and None not in covariates[0]:\n",
    "        # when adding a new point, we do have to refit the projection\n",
    "        cov_columns = df_data.filter(regex='^(?!target__)').columns\n",
    "        target_column = df_data.filter(regex='^target__').columns[0]\n",
    "        \n",
    "        df_data = df_data.append({\n",
    "            target_column: 'MANUAL',\n",
    "            **dict(zip(cov_columns, covariates[0]))\n",
    "        }, ignore_index=True)\n",
    "\n",
    "        _, df_proj = do_tsne(df_data)\n",
    "    \n",
    "    return px.scatter(\n",
    "        df_proj, x='TSNE_0', y='TSNE_1',\n",
    "        color=df_proj.index,\n",
    "        title='t-SNE projection'\n",
    "    )\n",
    "\n",
    "@app.callback(\n",
    "    Output('prediction-container', 'data'),\n",
    "    [\n",
    "        Input('dataset-selector', 'value'),\n",
    "        Input({'type': 'covariate', 'name': ALL}, 'value')\n",
    "    ]\n",
    ")\n",
    "def plot_model_predictions(dataset, *covariates):\n",
    "    if len(covariates[0]) == 0 or None in covariates[0]:\n",
    "        return []\n",
    "    \n",
    "    # assmble current input\n",
    "    df_data = load_dataset(dataset)\n",
    "    cov_columns = df_data.filter(regex='^(?!target__)').columns\n",
    "    df_cur = pd.DataFrame({\n",
    "        **dict(zip(cov_columns, covariates[0]))\n",
    "    }, index=[0]).apply(pd.to_numeric)\n",
    "    \n",
    "    # fit models\n",
    "    data = []\n",
    "    for model in model_list:\n",
    "        # model prediction\n",
    "        clf = MODEL_CACHE[dataset][model]\n",
    "        pred = clf.predict(df_cur)\n",
    "        \n",
    "        # model performance over whole dataset\n",
    "        tmp = df.loc[(df['model'] == model) & (df['dataset'] == dataset), 'accuracy']\n",
    "        assert tmp.shape[0] == 1\n",
    "        perf = tmp.iloc[0]\n",
    "        \n",
    "        # assemble table\n",
    "        data.append({\n",
    "            'model': model,\n",
    "            'prediction': pred,\n",
    "            'performance': perf\n",
    "        })\n",
    "    \n",
    "    return data\n",
    "\n",
    "# run app\n",
    "app.run_server(mode='jupyterlab')"
   ]
  }
 ],
 "metadata": {
  "kernelspec": {
   "display_name": "Python 3",
   "language": "python",
   "name": "python3"
  },
  "language_info": {
   "codemirror_mode": {
    "name": "ipython",
    "version": 3
   },
   "file_extension": ".py",
   "mimetype": "text/x-python",
   "name": "python",
   "nbconvert_exporter": "python",
   "pygments_lexer": "ipython3",
   "version": "3.9.0"
  }
 },
 "nbformat": 4,
 "nbformat_minor": 4
}
